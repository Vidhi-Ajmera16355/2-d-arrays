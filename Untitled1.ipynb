{
  "cells": [
    {
      "cell_type": "markdown",
      "metadata": {
        "id": "view-in-github",
        "colab_type": "text"
      },
      "source": [
        "<a href=\"https://colab.research.google.com/github/Vidhi-Ajmera16355/2-d-arrays/blob/main/Untitled1.ipynb\" target=\"_parent\"><img src=\"https://colab.research.google.com/assets/colab-badge.svg\" alt=\"Open In Colab\"/></a>"
      ]
    },
    {
      "cell_type": "code",
      "execution_count": null,
      "metadata": {
        "colab": {
          "base_uri": "https://localhost:8080/"
        },
        "id": "em0xcROC02zk",
        "outputId": "abc1ac17-fd50-4882-892b-7a439f9ab176"
      },
      "outputs": [
        {
          "name": "stdout",
          "output_type": "stream",
          "text": [
            "Hello 1st Year.\n"
          ]
        }
      ],
      "source": [
        "print(\"Hello 1st Year.\")"
      ]
    },
    {
      "cell_type": "code",
      "execution_count": null,
      "metadata": {
        "colab": {
          "base_uri": "https://localhost:8080/"
        },
        "id": "MfVp8ark1Uag",
        "outputId": "1bb6a30c-ca79-4a5f-b355-195a2290cf9d"
      },
      "outputs": [
        {
          "name": "stdout",
          "output_type": "stream",
          "text": [
            "[1 2 3 4 5]\n",
            "<class 'numpy.ndarray'>\n"
          ]
        }
      ],
      "source": [
        "import numpy as np\n",
        "ar=np.array([1,2,3,4,5])\n",
        "print(ar)\n",
        "print(type(ar))"
      ]
    },
    {
      "cell_type": "code",
      "execution_count": null,
      "metadata": {
        "colab": {
          "base_uri": "https://localhost:8080/"
        },
        "id": "_tqyUs6D2K1g",
        "outputId": "5743ecb9-dd24-4bb8-aeb0-b870423033a3"
      },
      "outputs": [
        {
          "name": "stdout",
          "output_type": "stream",
          "text": [
            "[list([1, 2, 3, 4, 5]) list([6, 7, 8, 9])]\n",
            "<class 'numpy.ndarray'>\n"
          ]
        },
        {
          "name": "stderr",
          "output_type": "stream",
          "text": [
            "<ipython-input-4-94415ce6187a>:2: VisibleDeprecationWarning: Creating an ndarray from ragged nested sequences (which is a list-or-tuple of lists-or-tuples-or ndarrays with different lengths or shapes) is deprecated. If you meant to do this, you must specify 'dtype=object' when creating the ndarray.\n",
            "  arr=np.array([[1,2,3,4,5],[6,7,8,9]])\n"
          ]
        }
      ],
      "source": [
        "import numpy as np\n",
        "arr=np.array([[1,2,3,4,5],[6,7,8,9]])\n",
        "print(arr)\n",
        "print(type(arr))"
      ]
    },
    {
      "cell_type": "code",
      "execution_count": null,
      "metadata": {
        "colab": {
          "base_uri": "https://localhost:8080/"
        },
        "id": "-ck_TXUu2kZA",
        "outputId": "948af248-981a-46ca-f378-46eaf946bc6c"
      },
      "outputs": [
        {
          "name": "stdout",
          "output_type": "stream",
          "text": [
            "0\n",
            "1\n",
            "2\n",
            "3\n"
          ]
        }
      ],
      "source": [
        "import numpy as np\n",
        "a=np.array(42)\n",
        "b=np.array([1,2,3,4])\n",
        "c=np.array([[1,2,3],[4,5,6]])\n",
        "d=np.array([[[1,2,3],[4,5,6,]],[[13,24,35],[23,45,67]]])\n",
        "print(a.ndim)\n",
        "print(b.ndim)\n",
        "print(c.ndim)\n",
        "print(d.ndim)"
      ]
    },
    {
      "cell_type": "code",
      "execution_count": null,
      "metadata": {
        "colab": {
          "base_uri": "https://localhost:8080/"
        },
        "id": "hoKwPeT-3zdU",
        "outputId": "243dff9c-c1a5-48bf-c4a5-d67400b2eaaf"
      },
      "outputs": [
        {
          "name": "stdout",
          "output_type": "stream",
          "text": [
            "[[[[[1 2 3 4]]]]]\n",
            "number of dimensions: 5\n"
          ]
        }
      ],
      "source": [
        "import numpy as np\n",
        "arr=np.array([1,2,3,4],ndmin=5)\n",
        "#parameters {ndmin}\n",
        "print(arr)\n",
        "print('number of dimensions:',arr.ndim)"
      ]
    },
    {
      "cell_type": "code",
      "execution_count": null,
      "metadata": {
        "id": "02EToqOH4w9_"
      },
      "outputs": [],
      "source": [
        "#numerical with string datatype -->> OBJECT"
      ]
    },
    {
      "cell_type": "code",
      "execution_count": null,
      "metadata": {
        "colab": {
          "base_uri": "https://localhost:8080/"
        },
        "id": "jqQkrUIZ64vR",
        "outputId": "19aadbc0-2d16-4ea8-b596-dde993e253b2"
      },
      "outputs": [
        {
          "name": "stdout",
          "output_type": "stream",
          "text": [
            "[2 3 4 5]\n",
            "[5 6]\n",
            "[1 3 5 7]\n",
            "[5 6 7]\n",
            "[1 2 3 4]\n",
            "[2 4]\n"
          ]
        }
      ],
      "source": [
        "import numpy as np \n",
        "arr=np.array([1,2,3,4,5,6,7])\n",
        "print(arr[1:5])\n",
        "print(arr[-3:-1])\n",
        "print(arr[::2])\n",
        "print(arr[4:])\n",
        "print(arr[:4])\n",
        "print(arr[1:5:2])"
      ]
    },
    {
      "cell_type": "code",
      "execution_count": null,
      "metadata": {
        "colab": {
          "base_uri": "https://localhost:8080/"
        },
        "id": "2jBQRSqW7E1I",
        "outputId": "7da793fe-fcbc-42ed-c865-e6f1c35b4e3b"
      },
      "outputs": [
        {
          "name": "stdout",
          "output_type": "stream",
          "text": [
            "[7 8 9]\n",
            "[3 8]\n",
            "[[2 3 4]\n",
            " [7 8 9]]\n"
          ]
        }
      ],
      "source": [
        "import numpy as np\n",
        "arr=np.array([[1,2,3,4,5],[6,7,8,9,10]])\n",
        "print(arr[1,1:4])\n",
        "print(arr[0:2,2])\n",
        "print(arr[0:2,1:4])\n",
        "# arr[( which column or row ) , ( which data to be taken )  ]  { a:b,from :to }"
      ]
    },
    {
      "cell_type": "code",
      "execution_count": null,
      "metadata": {
        "colab": {
          "base_uri": "https://localhost:8080/"
        },
        "id": "x0L6NdKw7gtK",
        "outputId": "e24d6242-80fb-4cba-ea6f-07fbb904b0b7"
      },
      "outputs": [
        {
          "name": "stdout",
          "output_type": "stream",
          "text": [
            "[1 2 3]\n",
            "int32\n"
          ]
        }
      ],
      "source": [
        "import numpy as np\n",
        "arr=np.array ([1.1,2.1,3.1])\n",
        "newarr= arr.astype('i')\n",
        "print(newarr)\n",
        "print(newarr.dtype)"
      ]
    },
    {
      "cell_type": "code",
      "execution_count": null,
      "metadata": {
        "colab": {
          "base_uri": "https://localhost:8080/"
        },
        "id": "ZBt49g7N91lI",
        "outputId": "399fde57-c2a7-4a50-be72-4589ec42ccd1"
      },
      "outputs": [
        {
          "name": "stdout",
          "output_type": "stream",
          "text": [
            "(2, 3)\n",
            "[[1 2 3]\n",
            " [4 5 6]]\n",
            "[[1 2]\n",
            " [3 4]\n",
            " [5 6]]\n",
            "(3, 2)\n"
          ]
        }
      ],
      "source": [
        "import numpy as np\n",
        "a=np.array([[1,2,3],[4,5,6]])\n",
        "print(a.shape)\n",
        "print(a)\n",
        "b=a.reshape(3,2)\n",
        "print(b)\n",
        "print(b.shape)"
      ]
    },
    {
      "cell_type": "code",
      "execution_count": null,
      "metadata": {
        "colab": {
          "base_uri": "https://localhost:8080/"
        },
        "id": "_wHxAv1w_CPR",
        "outputId": "557450cb-f799-40d5-84f2-988a5a96bab7"
      },
      "outputs": [
        {
          "name": "stdout",
          "output_type": "stream",
          "text": [
            "[ 0  1  2  3  4  5  6  7  8  9 10 11 12 13 14 15 16 17 18 19 20 21 22 23]\n",
            "1\n",
            "[[[[ 0  1]\n",
            "   [ 2  3]]\n",
            "\n",
            "  [[ 4  5]\n",
            "   [ 6  7]]]\n",
            "\n",
            "\n",
            " [[[ 8  9]\n",
            "   [10 11]]\n",
            "\n",
            "  [[12 13]\n",
            "   [14 15]]]\n",
            "\n",
            "\n",
            " [[[16 17]\n",
            "   [18 19]]\n",
            "\n",
            "  [[20 21]\n",
            "   [22 23]]]]\n",
            "4\n"
          ]
        }
      ],
      "source": [
        "import numpy as np \n",
        "a=np.arange(24)\n",
        "print(a)\n",
        "b=np.arange(24)\n",
        "print(b.ndim)\n",
        "# reshape\n",
        "c=a.reshape (3,2,2,2)\n",
        "# (block,row,col)\n",
        "# c is having three dimensions\n",
        "print(c)\n",
        "print(c.ndim)"
      ]
    },
    {
      "cell_type": "code",
      "execution_count": null,
      "metadata": {
        "colab": {
          "base_uri": "https://localhost:8080/"
        },
        "id": "v_DUPIGQB6yp",
        "outputId": "5f9d2e79-541e-4436-cc6f-6ff5396e04b8"
      },
      "outputs": [
        {
          "name": "stdout",
          "output_type": "stream",
          "text": [
            "1\n",
            "4\n"
          ]
        }
      ],
      "source": [
        "import numpy as np\n",
        "x=np.array([1,2,3,4,5],dtype=np.int8)\n",
        "print(x.itemsize)\n",
        "y=np.array([1,2,3,4,5],dtype= np.float32)\n",
        "print (y.itemsize)\n",
        "# 1->8 bits \n",
        "# 8/8=1\n",
        "# int 16\n",
        "# 16/8 =2\n",
        "# int 32\n",
        "# 32/8=4"
      ]
    },
    {
      "cell_type": "code",
      "execution_count": null,
      "metadata": {
        "colab": {
          "base_uri": "https://localhost:8080/"
        },
        "id": "HW3q0y3fFLf5",
        "outputId": "9600e27a-309b-460b-a74d-c359454c7850"
      },
      "outputs": [
        {
          "name": "stdout",
          "output_type": "stream",
          "text": [
            "  C_CONTIGUOUS : True\n",
            "  F_CONTIGUOUS : True\n",
            "  OWNDATA : True\n",
            "  WRITEABLE : True\n",
            "  ALIGNED : True\n",
            "  WRITEBACKIFCOPY : False\n",
            "  UPDATEIFCOPY : False\n",
            "\n"
          ]
        }
      ],
      "source": [
        "import numpy as np\n",
        "x=np.array([1,2,3,4,5])\n",
        "print (x.flags)\n"
      ]
    },
    {
      "cell_type": "code",
      "execution_count": null,
      "metadata": {
        "colab": {
          "base_uri": "https://localhost:8080/"
        },
        "id": "mbxn60aAHQvV",
        "outputId": "b2646313-02ab-41a6-e3d9-e5f134e07e03"
      },
      "outputs": [
        {
          "name": "stdout",
          "output_type": "stream",
          "text": [
            "[1 4 5]\n"
          ]
        }
      ],
      "source": [
        "import numpy as np\n",
        "x=np.array([[1,2],[3,4],[5,6]])\n",
        "y=x[[0,1,2],[0,1,0]]\n",
        "print(y)"
      ]
    },
    {
      "cell_type": "code",
      "execution_count": null,
      "metadata": {
        "colab": {
          "base_uri": "https://localhost:8080/"
        },
        "id": "bLATJk0aIerj",
        "outputId": "0026b32e-d7ac-4533-8c30-6c2df93cda0a"
      },
      "outputs": [
        {
          "name": "stdout",
          "output_type": "stream",
          "text": [
            "Our array is: [[ 0  1  2]\n",
            " [ 3  4  5]\n",
            " [ 6  7  8]\n",
            " [ 9 10 11]]\n",
            "[[ 0  2]\n",
            " [ 9 11]]\n"
          ]
        }
      ],
      "source": [
        "import numpy as np\n",
        "x=np.array ([[0,1,2],[3,4,5],[6,7,8],[9,10,11]])\n",
        "print('Our array is:',x)\n",
        "rows = np.array ([[0,0],[3,3]])\n",
        "cols = np.array([[0,2],[0,2]])\n",
        "y=x[rows,cols]\n",
        "print(y)"
      ]
    },
    {
      "cell_type": "code",
      "execution_count": 2,
      "metadata": {
        "colab": {
          "base_uri": "https://localhost:8080/"
        },
        "id": "M7J3MOQ6JSnk",
        "outputId": "6e9972a8-2c64-43c9-e329-f788cd1a7790"
      },
      "outputs": [
        {
          "output_type": "stream",
          "name": "stdout",
          "text": [
            "Our array is : [[3 7]\n",
            " [9 1]]\n",
            "[[3 7]\n",
            " [1 9]]\n",
            "[[3 1]\n",
            " [9 7]]\n",
            "Our array is: [(b'raju', 21) (b'anil', 25) (b'ravi', 17) (b'amar', 27)]\n",
            "[(b'amar', 27) (b'anil', 25) (b'raju', 21) (b'ravi', 17)]\n"
          ]
        }
      ],
      "source": [
        "import numpy as np\n",
        "a=np.array([[3,7],[9,1]])\n",
        "print('Our array is :',a)\n",
        "print(np.sort(a))\n",
        "print(np.sort(a,axis=0))\n",
        "dt= np.dtype([('name','S10'),('age',int)])\n",
        "a=np.array ([(\"raju\",21),(\"anil\",25),(\"ravi\",17),(\"amar\",27)], dtype = dt)\n",
        "print(\"Our array is:\",a)\n",
        "print (np.sort (a,order = 'name'))"
      ]
    },
    {
      "cell_type": "code",
      "execution_count": 8,
      "metadata": {
        "id": "XBBBF9aaNUOn",
        "colab": {
          "base_uri": "https://localhost:8080/"
        },
        "outputId": "aa7a320a-767b-4018-b14c-21fb49621c5a"
      },
      "outputs": [
        {
          "output_type": "stream",
          "name": "stdout",
          "text": [
            "1\n"
          ]
        }
      ],
      "source": [
        "import  numpy as np\n",
        "# binary only for sorted and linear for straight search\n",
        "arr=np.array([6,7,8,9])\n",
        "x=np.searchsorted(arr,7)\n",
        "print(x)"
      ]
    },
    {
      "cell_type": "code",
      "source": [
        "import numpy as np\n",
        "arr=np.array([6,7,8,9])\n",
        "x=np.searchsorted(arr,7,side='right')\n",
        "print(x)"
      ],
      "metadata": {
        "colab": {
          "base_uri": "https://localhost:8080/"
        },
        "id": "u9p_a8tij303",
        "outputId": "dccd9720-e7e8-4b08-ea23-a9876666d7d2"
      },
      "execution_count": 4,
      "outputs": [
        {
          "output_type": "stream",
          "name": "stdout",
          "text": [
            "2\n"
          ]
        }
      ]
    },
    {
      "cell_type": "code",
      "source": [
        "import numpy as np\n",
        "arr=np.array([1,3,5,7])\n",
        "x=np.searchsorted(arr,[2,4,6])\n",
        "print(x)"
      ],
      "metadata": {
        "colab": {
          "base_uri": "https://localhost:8080/"
        },
        "id": "nGAfAgDNkVty",
        "outputId": "d13e324a-0830-43e1-9b99-ae63cbc62b87"
      },
      "execution_count": 5,
      "outputs": [
        {
          "output_type": "stream",
          "name": "stdout",
          "text": [
            "[1 2 3]\n"
          ]
        }
      ]
    },
    {
      "cell_type": "code",
      "source": [
        "import numpy as np \n",
        "arr1=np.array([1,2,3])\n",
        "arr2=np.array([4,5,6])\n",
        "arr=np.concatenate((arr1,arr2))\n",
        "print(arr)"
      ],
      "metadata": {
        "colab": {
          "base_uri": "https://localhost:8080/"
        },
        "id": "VBtRAREZkpka",
        "outputId": "8e4b462b-6da5-4a2b-8269-8e5d3c09e1bf"
      },
      "execution_count": 13,
      "outputs": [
        {
          "output_type": "stream",
          "name": "stdout",
          "text": [
            "[1 2 3 4 5 6]\n"
          ]
        }
      ]
    },
    {
      "cell_type": "code",
      "source": [
        "import numpy as np \n",
        "arr1=([[1,2],[3,4]])\n",
        "arr2=([[5,6],[7,8]])\n",
        "arr=np.concatenate((arr1,arr2),axis=1)\n",
        "brr=np.concatenate((arr1,arr2),axis=0)\n",
        "print(arr)\n",
        "print(brr)"
      ],
      "metadata": {
        "colab": {
          "base_uri": "https://localhost:8080/"
        },
        "id": "GoQ5fvWOnrom",
        "outputId": "4b0d4a45-4a90-4256-e69c-d0fef9f68cc4"
      },
      "execution_count": 14,
      "outputs": [
        {
          "output_type": "stream",
          "name": "stdout",
          "text": [
            "[[1 2 5 6]\n",
            " [3 4 7 8]]\n",
            "[[1 2]\n",
            " [3 4]\n",
            " [5 6]\n",
            " [7 8]]\n"
          ]
        }
      ]
    },
    {
      "cell_type": "code",
      "source": [
        "import numpy as np \n",
        "arr1=np.array([1,2,3])\n",
        "arr2=np.array([4,5,6])\n",
        "arr=np.vstack((arr1,arr2))\n",
        "# vertical stacking\n",
        "# dstack\n",
        "print(arr)"
      ],
      "metadata": {
        "colab": {
          "base_uri": "https://localhost:8080/"
        },
        "id": "FP5L7dLwn--X",
        "outputId": "56349b27-946b-48d6-d5b9-134c64c94451"
      },
      "execution_count": 17,
      "outputs": [
        {
          "output_type": "stream",
          "name": "stdout",
          "text": [
            "[[1 2 3]\n",
            " [4 5 6]]\n"
          ]
        }
      ]
    },
    {
      "cell_type": "code",
      "source": [
        "import numpy as np\n",
        "arr=np.array([1,2,3,4,5,6])\n",
        "newarr=np.array_split(arr,3)\n",
        "print(newarr)\n"
      ],
      "metadata": {
        "colab": {
          "base_uri": "https://localhost:8080/"
        },
        "id": "jWCfYWmSpSdw",
        "outputId": "ac7cbb28-d6ed-4e1a-c857-13761ca0a5b2"
      },
      "execution_count": 18,
      "outputs": [
        {
          "output_type": "stream",
          "name": "stdout",
          "text": [
            "[array([1, 2]), array([3, 4]), array([5, 6])]\n"
          ]
        }
      ]
    },
    {
      "cell_type": "code",
      "source": [
        "import numpy as np\n",
        "arr=np.array([1,2,3,4,5,6])\n",
        "x=arr.copy()\n",
        "arr[0]=42\n",
        "print(arr)\n",
        "print(x)\n",
        "newarr=np.array_split(arr,4)\n",
        "print(newarr)\n",
        "# 6 elements / 4 (make array)=1.5\n",
        "# 4/3=1.33\n",
        "# 2/2=1\n",
        "# 1/1=1"
      ],
      "metadata": {
        "colab": {
          "base_uri": "https://localhost:8080/"
        },
        "id": "sQk-gp1oqXgr",
        "outputId": "dd499c0f-d0a9-414e-88ae-0ff3cb4f6e01"
      },
      "execution_count": 23,
      "outputs": [
        {
          "output_type": "stream",
          "name": "stdout",
          "text": [
            "[42  2  3  4  5  6]\n",
            "[1 2 3 4 5 6]\n",
            "[array([42,  2]), array([3, 4]), array([5]), array([6])]\n"
          ]
        }
      ]
    },
    {
      "cell_type": "code",
      "source": [
        "# change in original array!!\n",
        "import numpy as np\n",
        "arr=np.array([1,2,3,4,5])\n",
        "x=arr.view()\n",
        "arr[0]=42\n",
        "print(arr)\n",
        "print(x)"
      ],
      "metadata": {
        "colab": {
          "base_uri": "https://localhost:8080/"
        },
        "id": "GzVRBwj0qoRm",
        "outputId": "51a62129-a16b-45b3-a8fd-888350afe30b"
      },
      "execution_count": 24,
      "outputs": [
        {
          "output_type": "stream",
          "name": "stdout",
          "text": [
            "[42  2  3  4  5]\n",
            "[42  2  3  4  5]\n"
          ]
        }
      ]
    },
    {
      "cell_type": "code",
      "source": [],
      "metadata": {
        "id": "FfGC64kDsd-a"
      },
      "execution_count": null,
      "outputs": []
    }
  ],
  "metadata": {
    "colab": {
      "provenance": [],
      "authorship_tag": "ABX9TyPL/rybljUMdtDzzwuukOsw",
      "include_colab_link": true
    },
    "kernelspec": {
      "display_name": "Python 3",
      "name": "python3"
    },
    "language_info": {
      "name": "python"
    }
  },
  "nbformat": 4,
  "nbformat_minor": 0
}