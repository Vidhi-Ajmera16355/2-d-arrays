{
  "nbformat": 4,
  "nbformat_minor": 0,
  "metadata": {
    "colab": {
      "provenance": [],
      "authorship_tag": "ABX9TyMbkR7gtnZMlrI5jNshhUdg",
      "include_colab_link": true
    },
    "kernelspec": {
      "name": "python3",
      "display_name": "Python 3"
    },
    "language_info": {
      "name": "python"
    }
  },
  "cells": [
    {
      "cell_type": "markdown",
      "metadata": {
        "id": "view-in-github",
        "colab_type": "text"
      },
      "source": [
        "<a href=\"https://colab.research.google.com/github/Vidhi-Ajmera16355/2-d-arrays/blob/main/Untitled1.ipynb\" target=\"_parent\"><img src=\"https://colab.research.google.com/assets/colab-badge.svg\" alt=\"Open In Colab\"/></a>"
      ]
    },
    {
      "cell_type": "code",
      "execution_count": 1,
      "metadata": {
        "colab": {
          "base_uri": "https://localhost:8080/"
        },
        "id": "em0xcROC02zk",
        "outputId": "abc1ac17-fd50-4882-892b-7a439f9ab176"
      },
      "outputs": [
        {
          "output_type": "stream",
          "name": "stdout",
          "text": [
            "Hello 1st Year.\n"
          ]
        }
      ],
      "source": [
        "print(\"Hello 1st Year.\")"
      ]
    },
    {
      "cell_type": "code",
      "source": [
        "import numpy as np\n",
        "ar=np.array([1,2,3,4,5])\n",
        "print(ar)\n",
        "print(type(ar))"
      ],
      "metadata": {
        "colab": {
          "base_uri": "https://localhost:8080/"
        },
        "id": "MfVp8ark1Uag",
        "outputId": "1bb6a30c-ca79-4a5f-b355-195a2290cf9d"
      },
      "execution_count": 2,
      "outputs": [
        {
          "output_type": "stream",
          "name": "stdout",
          "text": [
            "[1 2 3 4 5]\n",
            "<class 'numpy.ndarray'>\n"
          ]
        }
      ]
    },
    {
      "cell_type": "code",
      "source": [
        "import numpy as np\n",
        "arr=np.array([[1,2,3,4,5],[6,7,8,9]])\n",
        "print(arr)\n",
        "print(type(arr))"
      ],
      "metadata": {
        "colab": {
          "base_uri": "https://localhost:8080/"
        },
        "id": "_tqyUs6D2K1g",
        "outputId": "5743ecb9-dd24-4bb8-aeb0-b870423033a3"
      },
      "execution_count": 4,
      "outputs": [
        {
          "output_type": "stream",
          "name": "stdout",
          "text": [
            "[list([1, 2, 3, 4, 5]) list([6, 7, 8, 9])]\n",
            "<class 'numpy.ndarray'>\n"
          ]
        },
        {
          "output_type": "stream",
          "name": "stderr",
          "text": [
            "<ipython-input-4-94415ce6187a>:2: VisibleDeprecationWarning: Creating an ndarray from ragged nested sequences (which is a list-or-tuple of lists-or-tuples-or ndarrays with different lengths or shapes) is deprecated. If you meant to do this, you must specify 'dtype=object' when creating the ndarray.\n",
            "  arr=np.array([[1,2,3,4,5],[6,7,8,9]])\n"
          ]
        }
      ]
    },
    {
      "cell_type": "code",
      "source": [
        "import numpy as np\n",
        "a=np.array(42)\n",
        "b=np.array([1,2,3,4])\n",
        "c=np.array([[1,2,3],[4,5,6]])\n",
        "d=np.array([[[1,2,3],[4,5,6,]],[[13,24,35],[23,45,67]]])\n",
        "print(a.ndim)\n",
        "print(b.ndim)\n",
        "print(c.ndim)\n",
        "print(d.ndim)"
      ],
      "metadata": {
        "colab": {
          "base_uri": "https://localhost:8080/"
        },
        "id": "-ck_TXUu2kZA",
        "outputId": "948af248-981a-46ca-f378-46eaf946bc6c"
      },
      "execution_count": 9,
      "outputs": [
        {
          "output_type": "stream",
          "name": "stdout",
          "text": [
            "0\n",
            "1\n",
            "2\n",
            "3\n"
          ]
        }
      ]
    },
    {
      "cell_type": "code",
      "source": [
        "import numpy as np\n",
        "arr=np.array([1,2,3,4],ndmin=5)\n",
        "#parameters {ndmin}\n",
        "print(arr)\n",
        "print('number of dimensions:',arr.ndim)"
      ],
      "metadata": {
        "colab": {
          "base_uri": "https://localhost:8080/"
        },
        "id": "hoKwPeT-3zdU",
        "outputId": "243dff9c-c1a5-48bf-c4a5-d67400b2eaaf"
      },
      "execution_count": 11,
      "outputs": [
        {
          "output_type": "stream",
          "name": "stdout",
          "text": [
            "[[[[[1 2 3 4]]]]]\n",
            "number of dimensions: 5\n"
          ]
        }
      ]
    },
    {
      "cell_type": "code",
      "source": [
        "#numerical with string datatype -->> OBJECT"
      ],
      "metadata": {
        "id": "02EToqOH4w9_"
      },
      "execution_count": 12,
      "outputs": []
    },
    {
      "cell_type": "code",
      "source": [
        "import numpy as np \n",
        "arr=np.array([1,2,3,4,5,6,7])\n",
        "print(arr[1:5])\n",
        "print(arr[-3:-1])\n",
        "print(arr[::2])\n",
        "print(arr[4:])\n",
        "print(arr[:4])\n",
        "print(arr[1:5:2])"
      ],
      "metadata": {
        "colab": {
          "base_uri": "https://localhost:8080/"
        },
        "id": "jqQkrUIZ64vR",
        "outputId": "19aadbc0-2d16-4ea8-b596-dde993e253b2"
      },
      "execution_count": 15,
      "outputs": [
        {
          "output_type": "stream",
          "name": "stdout",
          "text": [
            "[2 3 4 5]\n",
            "[5 6]\n",
            "[1 3 5 7]\n",
            "[5 6 7]\n",
            "[1 2 3 4]\n",
            "[2 4]\n"
          ]
        }
      ]
    },
    {
      "cell_type": "code",
      "source": [
        "import numpy as np\n",
        "arr=np.array([[1,2,3,4,5],[6,7,8,9,10]])\n",
        "print(arr[1,1:4])\n",
        "print(arr[0:2,2])\n",
        "print(arr[0:2,1:4])\n",
        "# arr[( which column or row ) , ( which data to be taken )  ]  { a:b,from :to }"
      ],
      "metadata": {
        "colab": {
          "base_uri": "https://localhost:8080/"
        },
        "id": "2jBQRSqW7E1I",
        "outputId": "7da793fe-fcbc-42ed-c865-e6f1c35b4e3b"
      },
      "execution_count": 17,
      "outputs": [
        {
          "output_type": "stream",
          "name": "stdout",
          "text": [
            "[7 8 9]\n",
            "[3 8]\n",
            "[[2 3 4]\n",
            " [7 8 9]]\n"
          ]
        }
      ]
    },
    {
      "cell_type": "code",
      "source": [
        "import numpy as np\n",
        "arr=np.array ([1.1,2.1,3.1])\n",
        "newarr= arr.astype('i')\n",
        "print(newarr)\n",
        "print(newarr.dtype)"
      ],
      "metadata": {
        "colab": {
          "base_uri": "https://localhost:8080/"
        },
        "id": "x0L6NdKw7gtK",
        "outputId": "e24d6242-80fb-4cba-ea6f-07fbb904b0b7"
      },
      "execution_count": 18,
      "outputs": [
        {
          "output_type": "stream",
          "name": "stdout",
          "text": [
            "[1 2 3]\n",
            "int32\n"
          ]
        }
      ]
    },
    {
      "cell_type": "code",
      "source": [
        "import numpy as np\n",
        "a=np.array([[1,2,3],[4,5,6]])\n",
        "print(a.shape)\n",
        "print(a)\n",
        "b=a.reshape(3,2)\n",
        "print(b)\n",
        "print(b.shape)"
      ],
      "metadata": {
        "colab": {
          "base_uri": "https://localhost:8080/"
        },
        "id": "ZBt49g7N91lI",
        "outputId": "399fde57-c2a7-4a50-be72-4589ec42ccd1"
      },
      "execution_count": 25,
      "outputs": [
        {
          "output_type": "stream",
          "name": "stdout",
          "text": [
            "(2, 3)\n",
            "[[1 2 3]\n",
            " [4 5 6]]\n",
            "[[1 2]\n",
            " [3 4]\n",
            " [5 6]]\n",
            "(3, 2)\n"
          ]
        }
      ]
    },
    {
      "cell_type": "code",
      "source": [
        "import numpy as np \n",
        "a=np.arange(24)\n",
        "print(a)\n",
        "b=np.arange(24)\n",
        "print(b.ndim)\n",
        "# reshape\n",
        "c=a.reshape (3,2,2,2)\n",
        "# (block,row,col)\n",
        "# c is having three dimensions\n",
        "print(c)\n",
        "print(c.ndim)"
      ],
      "metadata": {
        "colab": {
          "base_uri": "https://localhost:8080/"
        },
        "id": "_wHxAv1w_CPR",
        "outputId": "557450cb-f799-40d5-84f2-988a5a96bab7"
      },
      "execution_count": 35,
      "outputs": [
        {
          "output_type": "stream",
          "name": "stdout",
          "text": [
            "[ 0  1  2  3  4  5  6  7  8  9 10 11 12 13 14 15 16 17 18 19 20 21 22 23]\n",
            "1\n",
            "[[[[ 0  1]\n",
            "   [ 2  3]]\n",
            "\n",
            "  [[ 4  5]\n",
            "   [ 6  7]]]\n",
            "\n",
            "\n",
            " [[[ 8  9]\n",
            "   [10 11]]\n",
            "\n",
            "  [[12 13]\n",
            "   [14 15]]]\n",
            "\n",
            "\n",
            " [[[16 17]\n",
            "   [18 19]]\n",
            "\n",
            "  [[20 21]\n",
            "   [22 23]]]]\n",
            "4\n"
          ]
        }
      ]
    },
    {
      "cell_type": "code",
      "source": [
        "import numpy as np\n",
        "x=np.array([1,2,3,4,5],dtype=np.int8)\n",
        "print(x.itemsize)\n",
        "y=np.array([1,2,3,4,5],dtype= np.float32)\n",
        "print (y.itemsize)\n",
        "# 1->8 bits \n",
        "# 8/8=1\n",
        "# int 16\n",
        "# 16/8 =2\n",
        "# int 32\n",
        "# 32/8=4"
      ],
      "metadata": {
        "colab": {
          "base_uri": "https://localhost:8080/"
        },
        "id": "v_DUPIGQB6yp",
        "outputId": "5f9d2e79-541e-4436-cc6f-6ff5396e04b8"
      },
      "execution_count": 41,
      "outputs": [
        {
          "output_type": "stream",
          "name": "stdout",
          "text": [
            "1\n",
            "4\n"
          ]
        }
      ]
    },
    {
      "cell_type": "code",
      "source": [
        "import numpy as np\n",
        "x=np.array([1,2,3,4,5])\n",
        "print (x.flags)\n"
      ],
      "metadata": {
        "colab": {
          "base_uri": "https://localhost:8080/"
        },
        "id": "HW3q0y3fFLf5",
        "outputId": "9600e27a-309b-460b-a74d-c359454c7850"
      },
      "execution_count": 42,
      "outputs": [
        {
          "output_type": "stream",
          "name": "stdout",
          "text": [
            "  C_CONTIGUOUS : True\n",
            "  F_CONTIGUOUS : True\n",
            "  OWNDATA : True\n",
            "  WRITEABLE : True\n",
            "  ALIGNED : True\n",
            "  WRITEBACKIFCOPY : False\n",
            "  UPDATEIFCOPY : False\n",
            "\n"
          ]
        }
      ]
    },
    {
      "cell_type": "code",
      "source": [
        "import numpy as np\n",
        "x=np.array([[1,2],[3,4],[5,6]])\n",
        "y=x[[0,1,2],[0,1,0]]\n",
        "print(y)"
      ],
      "metadata": {
        "colab": {
          "base_uri": "https://localhost:8080/"
        },
        "id": "mbxn60aAHQvV",
        "outputId": "b2646313-02ab-41a6-e3d9-e5f134e07e03"
      },
      "execution_count": 43,
      "outputs": [
        {
          "output_type": "stream",
          "name": "stdout",
          "text": [
            "[1 4 5]\n"
          ]
        }
      ]
    },
    {
      "cell_type": "code",
      "source": [
        "import numpy as np\n",
        "x=np.array ([[0,1,2],[3,4,5],[6,7,8],[9,10,11]])\n",
        "print('Our array is:',x)\n",
        "rows = np.array ([[0,0],[3,3]])\n",
        "cols = np.array([[0,2],[0,2]])\n",
        "y=x[rows,cols]\n",
        "print(y)"
      ],
      "metadata": {
        "colab": {
          "base_uri": "https://localhost:8080/"
        },
        "id": "bLATJk0aIerj",
        "outputId": "0026b32e-d7ac-4533-8c30-6c2df93cda0a"
      },
      "execution_count": 44,
      "outputs": [
        {
          "output_type": "stream",
          "name": "stdout",
          "text": [
            "Our array is: [[ 0  1  2]\n",
            " [ 3  4  5]\n",
            " [ 6  7  8]\n",
            " [ 9 10 11]]\n",
            "[[ 0  2]\n",
            " [ 9 11]]\n"
          ]
        }
      ]
    },
    {
      "cell_type": "code",
      "source": [
        "import numpy as np\n",
        "a=np.array([[3,7],[9,1]])\n",
        "print('Our array is :',a)\n",
        "print(np.sort(a))\n",
        "print(np.sort(a,axis=0))\n",
        "dt= np.dtype([('name','S10'),('age',int)])\n",
        "a=np.array ([(\"raju\",21),(\"anil\",25),(\"ravi\",17),(\"amar\",27)], dtype = dt)\n",
        "print(\"Our array is:\",a)\n",
        "print (np.sort (a,order ='name'))"
      ],
      "metadata": {
        "colab": {
          "base_uri": "https://localhost:8080/"
        },
        "id": "M7J3MOQ6JSnk",
        "outputId": "6d8b6eb4-146c-4c53-b585-c512f6746cd8"
      },
      "execution_count": 46,
      "outputs": [
        {
          "output_type": "stream",
          "name": "stdout",
          "text": [
            "Our array is : [[3 7]\n",
            " [9 1]]\n",
            "[[3 7]\n",
            " [1 9]]\n",
            "[[3 1]\n",
            " [9 7]]\n",
            "Our array is: [(b'raju', 21) (b'anil', 25) (b'ravi', 17) (b'amar', 27)]\n",
            "[(b'amar', 27) (b'anil', 25) (b'raju', 21) (b'ravi', 17)]\n"
          ]
        }
      ]
    },
    {
      "cell_type": "code",
      "source": [
        "import numpy as np\n",
        "arr=np.array([1,2,3,4,5,4,4])\n",
        "x=np.where(arr==4)\n",
        "# index storing\n",
        "print(x)"
      ],
      "metadata": {
        "colab": {
          "base_uri": "https://localhost:8080/"
        },
        "id": "XBBBF9aaNUOn",
        "outputId": "045b1bbd-7883-46da-f01c-61963dab1a91"
      },
      "execution_count": 47,
      "outputs": [
        {
          "output_type": "stream",
          "name": "stdout",
          "text": [
            "(array([3, 5, 6]),)\n"
          ]
        }
      ]
    },
    {
      "cell_type": "code",
      "source": [
        "import numpy as np\n",
        "arr=np.array([1,2,3,4,5,6,7,8])\n",
        "x=np.where (arr%2==0)\n",
        "print(x)"
      ],
      "metadata": {
        "colab": {
          "base_uri": "https://localhost:8080/"
        },
        "id": "egv0Z5JcOyaa",
        "outputId": "bc542d3a-ee5d-4999-bfc6-d1c958c71a5d"
      },
      "execution_count": 48,
      "outputs": [
        {
          "output_type": "stream",
          "name": "stdout",
          "text": [
            "(array([1, 3, 5, 7]),)\n"
          ]
        }
      ]
    },
    {
      "cell_type": "code",
      "source": [
        "import numpy as numpy\n"
      ],
      "metadata": {
        "id": "KIjS4RByPHE_"
      },
      "execution_count": null,
      "outputs": []
    }
  ]
}